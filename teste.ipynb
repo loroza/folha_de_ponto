{
 "cells": [
  {
   "cell_type": "code",
   "execution_count": null,
   "metadata": {},
   "outputs": [],
   "source": [
    "import warnings\n",
    "warnings.filterwarnings('ignore')"
   ]
  },
  {
   "cell_type": "code",
   "execution_count": null,
   "metadata": {},
   "outputs": [],
   "source": [
    "import pandas as pd\n",
    "from code_class import GeoVictoria, FolhaPonto\n",
    "from tqdm import tqdm\n",
    "import datetime as dt\n",
    "import codeshot\n",
    "\n",
    "pd.set_option('display.max_rows', 100)"
   ]
  },
  {
   "cell_type": "code",
   "execution_count": null,
   "metadata": {},
   "outputs": [],
   "source": [
    "dias_semana = [(   'Sunday',       'Domingo'),\n",
    "               (   'Monday', 'Segunda-feira'),\n",
    "               (  'Tuesday',   'Terça-feira'),\n",
    "               ('Wednesday',  'Quarta-feira'),\n",
    "               ( 'Thursday',  'Quinta-feira'),\n",
    "               (   'Friday',   'Sexta-feira'),\n",
    "               ( 'Saturday',        'Sábado')]\n",
    "\n",
    "df_data = pd.DataFrame(data=[dt.date(year=2022, month=11, day=21) + dt.timedelta(days=x) for x in range(0, 182)], columns=['Data'])"
   ]
  },
  {
   "cell_type": "code",
   "execution_count": null,
   "metadata": {},
   "outputs": [],
   "source": [
    "lista_tp_permis = []\n",
    "\n",
    "for permission in GeoVictoria.GetPermissionList():\n",
    "    lista_tp_permis.append((permission['ID_TIPO_PERMISO'], permission['DESCRIPCION_TIPO_PERMISO']))"
   ]
  },
  {
   "cell_type": "code",
   "execution_count": null,
   "metadata": {},
   "outputs": [],
   "source": [
    "df_funcionários = pd.DataFrame(GeoVictoria.GetUserList())\n",
    "\n",
    "df_funcionários['Setor'] = df_funcionários['GroupDescription'].apply(lambda x:  '' if 'LOGIN' in x.upper() else\n",
    "                                                                                'Garantia' if 'GARAN' in x.upper() else\n",
    "                                                                                'Logistica' if 'LOGIS' in x.upper() else\n",
    "                                                                                'Logistica' if 'LOGÍS' in x.upper() else\n",
    "                                                                                'Vendas' if 'VENDA' in x.upper() else\n",
    "                                                                                'Compras' if 'COMPR' in x.upper() else\n",
    "                                                                                'Gente e Gestão' if 'GENT' in x.upper() else\n",
    "                                                                                'Gente e Gestão' if 'DP' in x.upper() else\n",
    "                                                                                'Estoque' if 'ESTOQ' in x.upper() else\n",
    "                                                                                'Expedição' if 'EXPED' in x.upper() else\n",
    "                                                                                'Almoxarifado' if 'ALMOX' in x.upper() else\n",
    "                                                                                'Financeiro' if 'FINAN' in x.upper() else\n",
    "                                                                                'Servicos Gerais' if 'GERAIS' in x.upper() else\n",
    "                                                                                'E-commerce' if 'COMMERCE' in x.upper() else\n",
    "                                                                                'Inteligencia Comercial' if 'COMERCIAL' in x.upper() else\n",
    "                                                                                'Cobranca' if 'COBRAN' in x.upper() else\n",
    "                                                                                'Marketing' if 'MARKET' in x.upper() else\n",
    "                                                                                'Dados' if 'DADOS' in x.upper() else\n",
    "                                                                                'Administrativo' if 'ADM' in x.upper() else\n",
    "                                                                                'Supervisor' if 'CHEFE' in x.upper() else\n",
    "                                                                                'Tecnologia' if 'TECNO' in x.upper() else\n",
    "                                                                                'Projetos' if 'PROJE' in x.upper() else\n",
    "                                                                                'Expansão' if 'EXPAN' in x.upper() else\n",
    "                                                                                'Motorista' if 'MOTOR' in x.upper() else '')\n",
    "\n",
    "df_funcionários['Nome completo'] = df_funcionários['Name'] + ' ' + df_funcionários['LastName']\n",
    "\n",
    "for i in df_funcionários.index:\n",
    "    nome = []\n",
    "    for x in df_funcionários.loc[i, 'Nome completo'].split():\n",
    "        nome_completo = ' '.join(nome)\n",
    "        df_funcionários.loc[i, 'Nome completo'] = nome_completo\n",
    "\n",
    "cod_fun = list(df_funcionários[df_funcionários['Enabled'] == 1]['Identifier'])"
   ]
  },
  {
   "cell_type": "code",
   "execution_count": null,
   "metadata": {},
   "outputs": [],
   "source": [
    "contador = 1\n",
    "\n",
    "df_permis = pd.DataFrame(GeoVictoria.GetPermissions(person=','.join(cod_fun)))\n",
    "df_horas = pd.DataFrame(GeoVictoria.GetAttendance(person=','.join(cod_fun[:48])))\n",
    "\n",
    "while contador < int(len(cod_fun) / 48) + 1:\n",
    "    df_horas = df_horas.append(pd.DataFrame(GeoVictoria.GetAttendance(person=','.join(cod_fun[(contador * 48) + 1:(contador * 48) + 48]))))\n",
    "    contador = contador + 1\n",
    "\n",
    "df_horas = df_horas.reset_index(drop=True)"
   ]
  },
  {
   "cell_type": "code",
   "execution_count": null,
   "metadata": {},
   "outputs": [],
   "source": [
    "df_ponto = pd.DataFrame(columns=['Cod. Funcionario',\n",
    "                                 'Nome completo',\n",
    "                                 'Turno',\n",
    "                                 'Permissao',\n",
    "                                 'Data',\n",
    "                                 'H. Ent1',\n",
    "                                 'H. Sai1',\n",
    "                                 'Intervalo',\n",
    "                                 'H. Ent2',\n",
    "                                 'H. Sai2'])\n",
    "\n",
    "df_ponto['Cod. Funcionario'] = df_horas['identifier']\n",
    "df_ponto['Data'] = df_horas['begins']\n",
    "df_ponto['H. Ent1'] = df_horas['first_punch']\n",
    "df_ponto['H. Sai1'] = df_horas['second_punch']\n",
    "df_ponto['H. Ent2'] = df_horas['third_punch']\n",
    "df_ponto['H. Sai2'] = df_horas['fourth_punch']\n",
    "\n",
    "df_ponto['Data'] = df_ponto['Data'].apply(lambda x: dt.date(int(x[:4]), int(x[4:6]), int(x[6:8])) if len(x) > 10 else None)\n",
    "\n",
    "df_ponto['H. Ent1'] = df_ponto['H. Ent1'].apply(lambda x: f'{x[8:10]}:{x[10:12]}' if len(x) > 10 else '--:--')\n",
    "df_ponto['H. Sai1'] = df_ponto['H. Sai1'].apply(lambda x: f'{x[8:10]}:{x[10:12]}' if len(x) > 10 else '--:--')\n",
    "df_ponto['H. Ent2'] = df_ponto['H. Ent2'].apply(lambda x: f'{x[8:10]}:{x[10:12]}' if len(x) > 10 else '--:--')\n",
    "df_ponto['H. Sai2'] = df_ponto['H. Sai2'].apply(lambda x: f'{x[8:10]}:{x[10:12]}' if len(x) > 10 else '--:--')\n",
    "\n",
    "df_ponto['Intervalo'] = df_ponto['H. Ent2'].apply(lambda x: ((int(x[:2]) * 60) + (int(x[3:5]))) if '--:--' != x else 0) - df_ponto['H. Sai1'].apply(lambda x: ((int(x[:2]) * 60) + (int(x[3:5]))) if '--:--' != x else 0)\n",
    "df_ponto['Intervalo'] = df_ponto['Intervalo'].apply(lambda x: FolhaPonto.minuto_hora(x)).replace('00:00', '--:--')\n",
    "\n",
    "for i in df_ponto.index:\n",
    "    t_trabralhado = FolhaPonto.minuto_hora((FolhaPonto.hora_minuto(df_ponto.loc[i, 'H. Sai1']) - FolhaPonto.hora_minuto(df_ponto.loc[i, 'H. Ent1'])) + (FolhaPonto.hora_minuto(df_ponto.loc[i, 'H. Sai2']) - FolhaPonto.hora_minuto(df_ponto.loc[i, 'H. Ent2']))).replace('00:00', '--:--')\n",
    "\n",
    "    if (df_ponto.loc[i, 'H. Ent1'] != '--:--' and df_ponto.loc[i, 'H. Sai1'] != '--:--') and df_ponto.loc[i, 'H. Ent2'] == '--:--':\n",
    "        df_ponto.loc[i, 'Situação'] = 'Esqueceu'\n",
    "    elif (df_ponto.loc[i, 'H. Ent2'] != '--:--' and df_ponto.loc[i, 'H. Sai2'] != '--:--') and df_ponto.loc[i, 'H. Sai1'] == '--:--':\n",
    "        df_ponto.loc[i, 'Situação'] = 'Esqueceu'\n",
    "    elif df_ponto.loc[i, 'H. Ent1'] != '--:--' and df_ponto.loc[i, 'H. Sai1'] != '--:--':\n",
    "        df_ponto.loc[i, 'Situação'] = 'Almoçou'\n",
    "    elif df_ponto.loc[i, 'H. Ent1'] != '--:--' and df_ponto.loc[i, 'H. Sai2'] != '--:--':\n",
    "        df_ponto.loc[i, 'Situação'] = 'Saiu direto'\n",
    "    else:\n",
    "        df_ponto.loc[i, 'Situação'] = '--:--'\n",
    "        \n",
    "    if df_ponto.loc[i, 'Situação'] == 'Esqueceu':\n",
    "        df_ponto.loc[i, 'Trabalhado'] = '--:--'\n",
    "    else:\n",
    "        df_ponto.loc[i, 'Trabalhado'] = t_trabralhado\n",
    "\n",
    "\n",
    "\n",
    "    weekend_day = df_ponto.loc[i, 'Data'].strftime('%w')\n",
    "    try:\n",
    "        df_ponto.loc[i, 'Nome completo'] = df_funcionários[df_funcionários['Identifier'] == df_ponto.loc[i, 'Cod. Funcionario']]['Name'].values[0] + ' ' + df_funcionários[df_funcionários['Identifier'] == df_ponto.loc[i, 'Cod. Funcionario']]['LastName'].values[0]\n",
    "        \n",
    "        if (weekend_day != '0') & (weekend_day != '6'):\n",
    "            df_ponto.loc[i, 'Turno'] = df_funcionários[df_funcionários['Identifier'] == df_ponto.loc[i, 'Cod. Funcionario']]['weeklyHoursCode'].values[0]\n",
    "        else:\n",
    "            df_ponto.loc[i, 'Turno'] = 'Nenhum'\n",
    "            \n",
    "        for (id, permis) in lista_tp_permis:\n",
    "            if id == df_permis[(df_permis['Identifier'] == df_ponto.loc[i, 'Cod. Funcionario']) & (df_permis['PERMISSION_START'] == df_ponto.loc[i, 'Data'].strftime('%Y%m%d000000'))]['ID_PERMISSION_TYPE'].values[0]:\n",
    "                if permis == None:\n",
    "                    df_ponto.loc[i, 'Permissao'] = 'Nenhum'\n",
    "                else:\n",
    "                    df_ponto.loc[i, 'Permissao'] = permis\n",
    "\n",
    "    except:\n",
    "        df_ponto.loc[i, 'Permissao'] = 'Nenhum'\n",
    "        continue\n",
    "\n",
    "df_ponto = pd.merge(df_data, df_ponto, how='outer', on=['Data'])\n",
    "df_ponto = df_ponto[df_ponto['Data'] < dt.datetime.now().date()]\n",
    "# df_ponto.iloc[:, 5:] = df_ponto.iloc[:, 5:].fillna('--:--')"
   ]
  },
  {
   "cell_type": "code",
   "execution_count": null,
   "metadata": {},
   "outputs": [],
   "source": [
    "for i in df_ponto.index:\n",
    "    if (df_ponto.loc[i, 'Permissao'] == 'Nenhum') & (df_ponto.loc[i, 'Turno'] == '44 horas semanais'):\n",
    "        cumprimento = '08:48'\n",
    "    elif (df_ponto.loc[i, 'Permissao'] == 'Nenhum') & (df_ponto.loc[i, 'Turno'] == '35 horas semanais'):\n",
    "        cumprimento = '07:00'\n",
    "    elif (df_ponto.loc[i, 'Permissao'] == 'Nenhum') & (df_ponto.loc[i, 'Turno'] == '30 horas semanais '):\n",
    "        cumprimento = '06:00'\n",
    "    else:\n",
    "        cumprimento = '--:--'\n",
    "\n",
    "    df_ponto.loc[i, 'H. Extra / Faltante'] = FolhaPonto.minuto_hora(FolhaPonto.hora_minuto(df_ponto.loc[i, 'Trabalhado']) - FolhaPonto.hora_minuto(cumprimento)).replace('00:00','--:--')\n",
    "    cumprimento = '--:--'\n",
    "\n",
    "df_ponto[(df_ponto['Cod. Funcionario'] == '004064')]# | (df_ponto['Cod. Funcionario'] == '004308')]"
   ]
  },
  {
   "cell_type": "code",
   "execution_count": null,
   "metadata": {},
   "outputs": [],
   "source": [
    "FolhaPonto.calculo(df_ponto[(df_ponto['Cod. Funcionario'] == '004064')]['H. Extra / Faltante'])"
   ]
  },
  {
   "cell_type": "code",
   "execution_count": null,
   "metadata": {},
   "outputs": [],
   "source": [
    "df_funcionários.loc[df_funcionários[df_funcionários['Identifier'] == '003791'].index[0]]"
   ]
  }
 ],
 "metadata": {
  "kernelspec": {
   "display_name": "Python 3",
   "language": "python",
   "name": "python3"
  },
  "language_info": {
   "codemirror_mode": {
    "name": "ipython",
    "version": 3
   },
   "file_extension": ".py",
   "mimetype": "text/x-python",
   "name": "python",
   "nbconvert_exporter": "python",
   "pygments_lexer": "ipython3",
   "version": "3.10.8"
  },
  "orig_nbformat": 4,
  "vscode": {
   "interpreter": {
    "hash": "beedbe2faf2f7048d727558d0bc3221e7eba2a0b921cac4d4771b2feb8f74b30"
   }
  }
 },
 "nbformat": 4,
 "nbformat_minor": 2
}
